{
 "cells": [
  {
   "cell_type": "code",
   "execution_count": null,
   "metadata": {},
   "outputs": [],
   "source": [
    "import json\n",
    "import pandas as pd\n",
    "import numpy as np\n",
    "from pathlib import Path\n",
    "from src.code_processing import decode_code_string\n",
    "from src.linting import analyze_strings\n",
    "\n",
    "retrain_data = False\n",
    "\n",
    "data_path = Path('data/')\n",
    "\n",
    "if retrain_data:\n",
    "    # load\n",
    "    item = pd.read_csv(data_path / 'umimeprogramovatcz-ipython_item.csv', sep=';', index_col=0)\n",
    "    # process\n",
    "    item = item[['name', 'solution']]\n",
    "    item['solution'] = item['solution'].apply(lambda x: eval(x)[0][1]).apply(decode_code_string)\n",
    "    # cache\n",
    "    item.to_csv(data_path / 'cached_item.csv')\n",
    "\n",
    "    # load\n",
    "    log = pd.read_csv(data_path / 'umimeprogramovatcz-ipython_log.csv', sep=';')\n",
    "    # process\n",
    "    log.drop_duplicates(inplace=True)\n",
    "    log.dropna(inplace=True)\n",
    "    # TODO drop rows referring to nonexistent items?\n",
    "    log['time'] = pd.to_datetime(log['time'])\n",
    "    log.set_index('time', inplace=True)\n",
    "    log['answer'] = log['answer'].apply(decode_code_string)\n",
    "    log = log[log['answer'].str.strip().astype(bool)]\n",
    "    # cache\n",
    "    log.to_csv(data_path / 'cached_log.csv')\n",
    "else:\n",
    "    # load from cache\n",
    "    item = pd.read_csv(data_path / 'cached_item.csv', index_col=0)\n",
    "\n",
    "    # load from cache\n",
    "    log = pd.read_csv(data_path / 'cached_log.csv')\n",
    "    log['time'] = pd.to_datetime(log['time'])\n",
    "    log.set_index('time', inplace=True)"
   ]
  },
  {
   "cell_type": "code",
   "execution_count": null,
   "metadata": {},
   "outputs": [],
   "source": [
    "import plotly.express as px\n",
    "counts = log['user'].value_counts()\n",
    "fig = px.histogram(counts[(counts > 5) & (counts < 600)], nbins=1000, title='Histogram of user activity')\n",
    "fig.update_layout(\n",
    "    xaxis_title=\"# submissions\", yaxis_title=\"# users\"\n",
    ")\n",
    "# poisson?"
   ]
  },
  {
   "cell_type": "code",
   "execution_count": null,
   "metadata": {},
   "outputs": [],
   "source": [
    "print('Looking for active but also representative users...')\n",
    "start, stop = 33, 38  # 40, 80\n",
    "selected_counts = counts[(counts >= start) & (counts < stop)]\n",
    "print(f'In the range of {start} to {stop} submissions found {selected_counts.shape[0]} users, \\\n",
    "with total {selected_counts.sum()} submissions, corresponding to {selected_counts.sum() / log.shape[0] * 100}% of the data')"
   ]
  },
  {
   "cell_type": "code",
   "execution_count": null,
   "metadata": {},
   "outputs": [],
   "source": [
    "log = log.query('user in @selected_counts.index')  # keep only data for selected users"
   ]
  },
  {
   "cell_type": "code",
   "execution_count": 5,
   "metadata": {},
   "outputs": [],
   "source": [
    "edulint_result_path = Path(f'data/edulint/edulint_results_{start}-{stop}.json')\n",
    "\n",
    "result = analyze_strings(map(lambda tup: tup[1], log['answer'].items()), result_path=edulint_result_path)"
   ]
  },
  {
   "cell_type": "code",
   "execution_count": null,
   "metadata": {},
   "outputs": [],
   "source": [
    "from sklearn.feature_extraction.text import CountVectorizer\n",
    "\n",
    "result = [' '.join(alist) for alist in json.load(open(edulint_result_path, 'r'))]\n",
    "vectorizer = CountVectorizer(min_df=0.001)\n",
    "vectors = vectorizer.fit_transform(result)\n",
    "log['linter_messages'] = list(map(np.array, vectors.toarray().tolist()))"
   ]
  },
  {
   "cell_type": "code",
   "execution_count": null,
   "metadata": {},
   "outputs": [],
   "source": [
    "vectorizer.get_feature_names_out()"
   ]
  },
  {
   "cell_type": "code",
   "execution_count": null,
   "metadata": {},
   "outputs": [],
   "source": [
    "from src.linter_profile import task_profile\n",
    "\n",
    "item = pd.concat([item, pd.DataFrame({'name': 'unknown', 'solution': 'pass'}, index=[12])])  # TODO add in preprocessing\n",
    "\n",
    "profiles = []\n",
    "means = []\n",
    "for task_id in item.index:\n",
    "    history = log['linter_messages'][log['item'] == task_id]\n",
    "    if len(history) == 0:\n",
    "        profiles.append(np.zeros(len(vectorizer.get_feature_names_out())))\n",
    "        means.append(np.zeros(len(vectorizer.get_feature_names_out())))\n",
    "    else:\n",
    "        profiles.append(task_profile(np.vstack(history)))\n",
    "        means.append(history.mean(axis=0))\n",
    "item['profile'] = profiles\n",
    "item['mean'] = means"
   ]
  },
  {
   "cell_type": "code",
   "execution_count": null,
   "metadata": {},
   "outputs": [],
   "source": [
    "from src.linter_profile import freq_profile\n",
    "\n",
    "result = []\n",
    "for user_id in set(log['user']):\n",
    "    user_history = log[log['user'] == user_id].sort_values('time')\n",
    "\n",
    "    user_history['final'] = np.append(user_history['item'][:-1].values != user_history['item'][1:].values, True)\n",
    "    user_history['first'] = [True] + [False] * (len(user_history) - 1)\n",
    "\n",
    "    user_history['freq_profile'] = freq_profile(np.vstack(user_history['linter_messages'])).tolist()\n",
    "    user_history['task_relative_profile'] = freq_profile(np.vstack(user_history['linter_messages']), np.vstack(item['mean'][user_history['item']])).tolist()\n",
    "\n",
    "    \n",
    "    user_history['distance_from_profile'] = np.round(\n",
    "        np.linalg.norm(\n",
    "            np.vstack(user_history['linter_messages'].apply(lambda x: x / (x.sum() + 1e-6))) - np.vstack(user_history['task_relative_profile']), axis=1\n",
    "        ),\n",
    "        2\n",
    "    ).tolist()\n",
    "    result.append(user_history)\n",
    "\n",
    "new_log = pd.concat(result)"
   ]
  },
  {
   "cell_type": "code",
   "execution_count": null,
   "metadata": {},
   "outputs": [],
   "source": [
    "new_log[new_log['first'] == False].sort_values('distance_from_profile', ascending=False) #[5:10]"
   ]
  },
  {
   "cell_type": "code",
   "execution_count": null,
   "metadata": {},
   "outputs": [],
   "source": [
    "import math\n",
    "import plotly.graph_objects as go\n",
    "from plotly.subplots import make_subplots\n",
    "\n",
    "user_id = 50440544  # 15773986 # 11099474 # 28668216 # 24903035 # 39137547\n",
    "user_history = new_log[new_log['user'] == user_id]\n",
    "session_breakpoints = np.nonzero((user_history.index[1:] - user_history.index[:-1]) > pd.Timedelta(1, 'h'))[0].tolist()\n",
    "\n",
    "fig = make_subplots(rows=math.ceil((len(session_breakpoints) + 1) / 4), cols=4)\n",
    "\n",
    "start = 0\n",
    "for i, end in enumerate(session_breakpoints + [len(user_history)]):\n",
    "    session = user_history[start:end + 1]\n",
    "    fig.add_trace(\n",
    "        go.Scatter(\n",
    "            x=session.index,\n",
    "            y=session['distance_from_profile'],\n",
    "            text='task id ' + session['item'].astype(str),\n",
    "            mode='lines+markers',\n",
    "            marker=dict(\n",
    "                color=session['correct'].apply(lambda x: 'green' if x else 'red'),\n",
    "                symbol=session['final'].apply(lambda x: 'x' if x else 'circle'),\n",
    "                size=10\n",
    "            ),\n",
    "        ),\n",
    "        col=i % 4 + 1, row=i // 4 + 1\n",
    "    )\n",
    "    fig.update_layout(\n",
    "        margin=dict(l=0,r=0,b=0,t=40),\n",
    "        showlegend=False,\n",
    "        title=f'Sessions of user id {user_id}'\n",
    "    )\n",
    "    fig.update_xaxes(\n",
    "        tickformat=\"%H:%M<br>%d-%m\"\n",
    "    )\n",
    "    start = end + 1\n",
    "\n",
    "fig.show()"
   ]
  },
  {
   "cell_type": "code",
   "execution_count": null,
   "metadata": {},
   "outputs": [],
   "source": [
    "for i, row in user_history[user_history['item'] == 50].iterrows():\n",
    "    print(row['answer'], row['distance_from_profile'])"
   ]
  },
  {
   "cell_type": "code",
   "execution_count": null,
   "metadata": {},
   "outputs": [],
   "source": [
    "for i, row in user_history[user_history['item'] == 1].iterrows():\n",
    "    print(row['answer'], row['linter_messages'], row['distance_from_profile'], row['freq_profile'])"
   ]
  }
 ],
 "metadata": {
  "kernelspec": {
   "display_name": ".venv",
   "language": "python",
   "name": "python3"
  },
  "language_info": {
   "codemirror_mode": {
    "name": "ipython",
    "version": 3
   },
   "file_extension": ".py",
   "mimetype": "text/x-python",
   "name": "python",
   "nbconvert_exporter": "python",
   "pygments_lexer": "ipython3",
   "version": "3.10.7"
  }
 },
 "nbformat": 4,
 "nbformat_minor": 2
}
