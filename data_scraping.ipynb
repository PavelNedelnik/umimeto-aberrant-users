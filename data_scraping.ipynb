{
 "cells": [
  {
   "cell_type": "code",
   "execution_count": null,
   "metadata": {},
   "outputs": [],
   "source": [
    "from pathlib import Path\n",
    "from src.linting import analyze_strings\n",
    "from src.load_scripts import load_item, load_log\n",
    "\n",
    "data_path = Path('data/')\n",
    "\n",
    "item = load_item(data_path)\n",
    "log = load_log(data_path)"
   ]
  },
  {
   "cell_type": "code",
   "execution_count": null,
   "metadata": {},
   "outputs": [],
   "source": [
    "import plotly.express as px\n",
    "counts = log['user'].value_counts()\n",
    "fig = px.histogram(counts[(counts > 5) & (counts < 600)], nbins=1000, title='Histogram of user activity')\n",
    "fig.update_layout(\n",
    "    xaxis_title=\"# submissions\", yaxis_title=\"# users\"\n",
    ")\n",
    "# poisson?"
   ]
  },
  {
   "cell_type": "code",
   "execution_count": null,
   "metadata": {},
   "outputs": [],
   "source": [
    "print('Looking for active but also representative users...')\n",
    "start, stop = 81, 82\n",
    "selected_counts = counts[(counts >= start) & (counts < stop)]\n",
    "print(f'In the range of {start} to {stop} submissions found {selected_counts.shape[0]} users, \\\n",
    "with total {selected_counts.sum()} submissions, corresponding to {selected_counts.sum() / log.shape[0] * 100}% of the data')"
   ]
  },
  {
   "cell_type": "code",
   "execution_count": null,
   "metadata": {},
   "outputs": [],
   "source": [
    "log = log.query('user in @selected_counts.index')  # keep only data for selected users"
   ]
  },
  {
   "cell_type": "code",
   "execution_count": null,
   "metadata": {},
   "outputs": [],
   "source": [
    "edulint_result_path = Path(f'data/edulint/edulint_results_{start}-{stop}.json')\n",
    "\n",
    "result = analyze_strings(map(lambda tup: tup[1], log['answer'].items()), result_path=edulint_result_path)"
   ]
  }
 ],
 "metadata": {
  "kernelspec": {
   "display_name": ".venv",
   "language": "python",
   "name": "python3"
  },
  "language_info": {
   "codemirror_mode": {
    "name": "ipython",
    "version": 3
   },
   "file_extension": ".py",
   "mimetype": "text/x-python",
   "name": "python",
   "nbconvert_exporter": "python",
   "pygments_lexer": "ipython3",
   "version": "3.10.7"
  }
 },
 "nbformat": 4,
 "nbformat_minor": 2
}
