{
 "cells": [
  {
   "cell_type": "code",
   "execution_count": 1,
   "metadata": {},
   "outputs": [],
   "source": [
    "import pandas as pd\n",
    "import numpy as np\n",
    "import json\n",
    "from pathlib import Path\n",
    "from src.load_scripts import load_log, load_item"
   ]
  },
  {
   "cell_type": "code",
   "execution_count": 2,
   "metadata": {},
   "outputs": [],
   "source": [
    "data_path = Path('data/')\n",
    "\n",
    "retrain = False\n",
    "\n",
    "if retrain:\n",
    "    item = load_item(data_path)\n",
    "    log = load_log(data_path, data_path / 'edulint')\n",
    "\n",
    "    item.to_csv(data_path / 'cached_item.csv')\n",
    "    log.to_csv(data_path / 'cached_log.csv')\n",
    "else:\n",
    "    item = pd.read_csv(data_path / 'cached_item.csv', index_col=0)\n",
    "    log = pd.read_csv(data_path / 'cached_log.csv', index_col=0)"
   ]
  },
  {
   "cell_type": "code",
   "execution_count": 3,
   "metadata": {},
   "outputs": [],
   "source": [
    "from sklearn.feature_extraction.text import CountVectorizer\n",
    "from sklearn.feature_extraction.text import TfidfTransformer\n",
    "\n",
    "vectorizer = CountVectorizer(min_df=0.005)\n",
    "vectors = vectorizer.fit_transform(log['linter_messages'])\n",
    "tfidf = TfidfTransformer().fit_transform(vectors)\n",
    "\n",
    "log['linter_messages'] = list(map(np.array, vectors.toarray().tolist()))"
   ]
  },
  {
   "cell_type": "code",
   "execution_count": 4,
   "metadata": {},
   "outputs": [],
   "source": [
    "with open(Path('data/edulint/results.txt'), 'r') as f:\n",
    "    results = f.read().lower()\n",
    "    \n",
    "feature_descriptions = []\n",
    "for feature_name in vectorizer.get_feature_names_out():\n",
    "    begin = results.find(feature_name)\n",
    "    feature_descriptions.append(results[begin:results.find('_\"', begin)])\n",
    "\n",
    "json.dump(feature_descriptions, open(Path('data/edulint/features.json'), 'w'))"
   ]
  },
  {
   "cell_type": "code",
   "execution_count": 5,
   "metadata": {},
   "outputs": [],
   "source": [
    "def mean_in_out_class_distances(log: pd.DataFrame, target: str):\n",
    "    in_classes = []\n",
    "    out_classes = []\n",
    "    for cls in np.unique(log[target]):\n",
    "        in_classes.append(log[log[target] == cls]['distance_from_profile'].mean())\n",
    "        out_classes.append(log[log[target] != cls]['distance_from_profile'].mean())\n",
    "    return np.asarray(in_classes).mean(), np.asarray(out_classes).mean()\n"
   ]
  },
  {
   "cell_type": "code",
   "execution_count": 6,
   "metadata": {},
   "outputs": [
    {
     "name": "stdout",
     "output_type": "stream",
     "text": [
      "(0.6047516921278043, 0.5514296103500583)\n",
      "(0.5789256070117379, 0.5394568165010662)\n"
     ]
    }
   ],
   "source": [
    "from src.linter_profile import MeanTaskProfiler, MeanNormTaskProfiler, NormSumTaskProfiler, NormForgetUserProfiler\n",
    "from src.model import DistanceModel\n",
    "\n",
    "dim = len(feature_descriptions)\n",
    "profilers = [MeanNormTaskProfiler(dim), NormForgetUserProfiler(dim)]\n",
    "model = DistanceModel('euclidean', 'l2')\n",
    "for profiler in profilers:\n",
    "    log['profile'] = profiler.build_profiles(log)\n",
    "    log['distance_from_profile'] = model.calculate_distances(log['profile'], log['linter_messages'])\n",
    "    print(mean_in_out_class_distances(log, 'item'))\n",
    "    "
   ]
  },
  {
   "cell_type": "code",
   "execution_count": 16,
   "metadata": {},
   "outputs": [],
   "source": [
    "log['task_profile'] = MeanNormTaskProfiler(dim).build_profiles(log)\n",
    "log['user_profile'] = NormForgetUserProfiler(dim).build_profiles(log)"
   ]
  },
  {
   "cell_type": "code",
   "execution_count": 51,
   "metadata": {},
   "outputs": [
    {
     "data": {
      "text/plain": [
       "0.22451181677644344"
      ]
     },
     "execution_count": 51,
     "metadata": {},
     "output_type": "execute_result"
    }
   ],
   "source": [
    "from sklearn.linear_model import LinearRegression\n",
    "\n",
    "X = np.hstack([np.vstack(log['task_profile']), np.vstack(log['user_profile'])])\n",
    "# X = np.vstack(log['task_profile'])\n",
    "# X = np.vstack(log['user_profile'])\n",
    "y = np.vstack(log['linter_messages'])\n",
    "reg = LinearRegression().fit(X, y)\n",
    "reg.score(X, y)"
   ]
  },
  {
   "cell_type": "code",
   "execution_count": 38,
   "metadata": {},
   "outputs": [
    {
     "data": {
      "text/plain": [
       "(160173, 62)"
      ]
     },
     "execution_count": 38,
     "metadata": {},
     "output_type": "execute_result"
    }
   ],
   "source": [
    "X.shape"
   ]
  },
  {
   "cell_type": "code",
   "execution_count": 39,
   "metadata": {},
   "outputs": [
    {
     "data": {
      "text/plain": [
       "(160173, 31)"
      ]
     },
     "execution_count": 39,
     "metadata": {},
     "output_type": "execute_result"
    }
   ],
   "source": [
    "y.shape"
   ]
  },
  {
   "cell_type": "code",
   "execution_count": 35,
   "metadata": {},
   "outputs": [
    {
     "data": {
      "text/plain": [
       "419       [0, 0, 0, 0, 0, 0, 0, 0, 0, 0, 0, 0, 0, 0, 0, ...\n",
       "421       [0, 0, 0, 0, 0, 0, 0, 0, 0, 0, 0, 0, 0, 0, 0, ...\n",
       "424       [0, 0, 0, 0, 0, 0, 0, 0, 0, 0, 0, 0, 0, 0, 0, ...\n",
       "425       [0, 0, 0, 0, 0, 0, 0, 0, 0, 0, 0, 0, 0, 0, 0, ...\n",
       "426       [0, 0, 4, 0, 0, 0, 0, 0, 0, 0, 0, 0, 0, 0, 0, ...\n",
       "                                ...                        \n",
       "385037    [0, 1, 0, 0, 0, 0, 0, 0, 0, 0, 0, 0, 0, 0, 0, ...\n",
       "385038    [0, 0, 0, 0, 0, 0, 0, 0, 0, 0, 0, 0, 0, 0, 0, ...\n",
       "385039    [0, 1, 0, 0, 0, 0, 0, 0, 0, 0, 1, 0, 0, 0, 0, ...\n",
       "385040    [0, 0, 0, 0, 0, 0, 0, 0, 0, 0, 0, 0, 0, 0, 0, ...\n",
       "385041    [0, 1, 0, 0, 0, 0, 0, 0, 0, 0, 0, 0, 0, 0, 0, ...\n",
       "Name: linter_messages, Length: 160173, dtype: object"
      ]
     },
     "execution_count": 35,
     "metadata": {},
     "output_type": "execute_result"
    }
   ],
   "source": [
    "log['linter_messages']"
   ]
  },
  {
   "cell_type": "code",
   "execution_count": 30,
   "metadata": {},
   "outputs": [
    {
     "data": {
      "text/plain": [
       "(160173, 62)"
      ]
     },
     "execution_count": 30,
     "metadata": {},
     "output_type": "execute_result"
    }
   ],
   "source": [
    "np.hstack([np.vstack(log['task_profile']), np.vstack(log['user_profile'])]).shape"
   ]
  },
  {
   "cell_type": "code",
   "execution_count": 13,
   "metadata": {},
   "outputs": [
    {
     "data": {
      "text/html": [
       "<div>\n",
       "<style scoped>\n",
       "    .dataframe tbody tr th:only-of-type {\n",
       "        vertical-align: middle;\n",
       "    }\n",
       "\n",
       "    .dataframe tbody tr th {\n",
       "        vertical-align: top;\n",
       "    }\n",
       "\n",
       "    .dataframe thead th {\n",
       "        text-align: right;\n",
       "    }\n",
       "</style>\n",
       "<table border=\"1\" class=\"dataframe\">\n",
       "  <thead>\n",
       "    <tr style=\"text-align: right;\">\n",
       "      <th></th>\n",
       "      <th>id</th>\n",
       "      <th>user</th>\n",
       "      <th>item</th>\n",
       "      <th>answer</th>\n",
       "      <th>correct</th>\n",
       "      <th>moves</th>\n",
       "      <th>responseTime</th>\n",
       "      <th>time</th>\n",
       "      <th>linter_messages</th>\n",
       "      <th>profile</th>\n",
       "      <th>distance_from_profile</th>\n",
       "    </tr>\n",
       "  </thead>\n",
       "  <tbody>\n",
       "    <tr>\n",
       "      <th>169066</th>\n",
       "      <td>199845</td>\n",
       "      <td>30065896</td>\n",
       "      <td>53</td>\n",
       "      <td>def middle_number(a, b, c):\\n    if a&lt;b and b&lt;...</td>\n",
       "      <td>1</td>\n",
       "      <td>-1</td>\n",
       "      <td>697350</td>\n",
       "      <td>2021-10-22 13:11:48</td>\n",
       "      <td>[0, 0, 0, 0, 0, 0, 0, 0, 10, 0, 0, 0, 0, 0, 0,...</td>\n",
       "      <td>[0.0, 0.0, 0.0, 0.0, 0.0, 0.0, 0.0, 0.0, 0.0, ...</td>\n",
       "      <td>1.351337e+00</td>\n",
       "    </tr>\n",
       "    <tr>\n",
       "      <th>126789</th>\n",
       "      <td>157568</td>\n",
       "      <td>22313410</td>\n",
       "      <td>66</td>\n",
       "      <td>def decide(symbol1, symbol2):\\n    if symbol1=...</td>\n",
       "      <td>0</td>\n",
       "      <td>-1</td>\n",
       "      <td>371550</td>\n",
       "      <td>2021-05-05 21:46:26</td>\n",
       "      <td>[0, 0, 0, 0, 0, 0, 0, 6, 12, 0, 0, 0, 0, 0, 0,...</td>\n",
       "      <td>[0.0, 0.0, 0.0, 0.0, 0.0, 0.0, 0.0, 0.0, 0.0, ...</td>\n",
       "      <td>1.351203e+00</td>\n",
       "    </tr>\n",
       "    <tr>\n",
       "      <th>138227</th>\n",
       "      <td>169006</td>\n",
       "      <td>25070815</td>\n",
       "      <td>60</td>\n",
       "      <td>def big_even(a, b):\\n    return a&gt;b and a%2==0...</td>\n",
       "      <td>1</td>\n",
       "      <td>-1</td>\n",
       "      <td>30250</td>\n",
       "      <td>2021-06-03 19:31:29</td>\n",
       "      <td>[0, 0, 0, 0, 0, 0, 0, 0, 3, 2, 0, 0, 0, 0, 0, ...</td>\n",
       "      <td>[0.0, 0.0, 0.6485032414269816, 0.6878364276643...</td>\n",
       "      <td>1.347694e+00</td>\n",
       "    </tr>\n",
       "    <tr>\n",
       "      <th>120357</th>\n",
       "      <td>151172</td>\n",
       "      <td>23370541</td>\n",
       "      <td>90</td>\n",
       "      <td>1111111111111111111111111111111111111111111111...</td>\n",
       "      <td>0</td>\n",
       "      <td>-1</td>\n",
       "      <td>330750</td>\n",
       "      <td>2021-04-14 08:13:51</td>\n",
       "      <td>[0, 0, 0, 0, 0, 0, 0, 0, 0, 0, 0, 0, 0, 0, 0, ...</td>\n",
       "      <td>[0.0, 0.0, 0.0, 0.0, 0.0, 0.0, 0.0, 0.0, 0.0, ...</td>\n",
       "      <td>1.347478e+00</td>\n",
       "    </tr>\n",
       "    <tr>\n",
       "      <th>55547</th>\n",
       "      <td>86393</td>\n",
       "      <td>17126622</td>\n",
       "      <td>86</td>\n",
       "      <td>def double(a, b):\\n  if b == a * 2:\\n    print...</td>\n",
       "      <td>1</td>\n",
       "      <td>-1</td>\n",
       "      <td>155100</td>\n",
       "      <td>2020-06-16 21:19:07</td>\n",
       "      <td>[0, 0, 2, 0, 0, 0, 0, 0, 0, 0, 0, 0, 0, 0, 0, ...</td>\n",
       "      <td>[0.0, 0.0, 0.002325648847305583, 0.00348847327...</td>\n",
       "      <td>1.347331e+00</td>\n",
       "    </tr>\n",
       "    <tr>\n",
       "      <th>...</th>\n",
       "      <td>...</td>\n",
       "      <td>...</td>\n",
       "      <td>...</td>\n",
       "      <td>...</td>\n",
       "      <td>...</td>\n",
       "      <td>...</td>\n",
       "      <td>...</td>\n",
       "      <td>...</td>\n",
       "      <td>...</td>\n",
       "      <td>...</td>\n",
       "      <td>...</td>\n",
       "    </tr>\n",
       "    <tr>\n",
       "      <th>221051</th>\n",
       "      <td>253174</td>\n",
       "      <td>33901490</td>\n",
       "      <td>45</td>\n",
       "      <td>def print_sums(n):\\n    for i in range(n):\\n  ...</td>\n",
       "      <td>0</td>\n",
       "      <td>-1</td>\n",
       "      <td>19200</td>\n",
       "      <td>2022-03-23 10:28:59</td>\n",
       "      <td>[0, 0, 0, 0, 0, 0, 0, 0, 0, 0, 0, 0, 0, 0, 0, ...</td>\n",
       "      <td>[0.0, 0.0, 0.0, 0.0, 0.0, 0.0, 0.0, 0.0, 0.0, ...</td>\n",
       "      <td>1.645505e-07</td>\n",
       "    </tr>\n",
       "    <tr>\n",
       "      <th>221052</th>\n",
       "      <td>253175</td>\n",
       "      <td>33901490</td>\n",
       "      <td>45</td>\n",
       "      <td>def print_sums(n):\\n    for i in range(n):\\n  ...</td>\n",
       "      <td>0</td>\n",
       "      <td>-1</td>\n",
       "      <td>19350</td>\n",
       "      <td>2022-03-23 10:28:59</td>\n",
       "      <td>[0, 0, 0, 0, 0, 0, 0, 0, 0, 0, 0, 0, 0, 0, 0, ...</td>\n",
       "      <td>[0.0, 0.0, 0.0, 0.0, 0.0, 0.0, 0.0, 0.0, 0.0, ...</td>\n",
       "      <td>1.316404e-07</td>\n",
       "    </tr>\n",
       "    <tr>\n",
       "      <th>221053</th>\n",
       "      <td>253176</td>\n",
       "      <td>33901490</td>\n",
       "      <td>45</td>\n",
       "      <td>def print_sums(n):\\n    for i in range(n):\\n  ...</td>\n",
       "      <td>0</td>\n",
       "      <td>-1</td>\n",
       "      <td>19550</td>\n",
       "      <td>2022-03-23 10:28:59</td>\n",
       "      <td>[0, 0, 0, 0, 0, 0, 0, 0, 0, 0, 0, 0, 0, 0, 0, ...</td>\n",
       "      <td>[0.0, 0.0, 0.0, 0.0, 0.0, 0.0, 0.0, 0.0, 0.0, ...</td>\n",
       "      <td>1.053123e-07</td>\n",
       "    </tr>\n",
       "    <tr>\n",
       "      <th>221054</th>\n",
       "      <td>253177</td>\n",
       "      <td>33901490</td>\n",
       "      <td>45</td>\n",
       "      <td>def print_sums(n):\\n    for i in range(n):\\n  ...</td>\n",
       "      <td>0</td>\n",
       "      <td>-1</td>\n",
       "      <td>19750</td>\n",
       "      <td>2022-03-23 10:29:00</td>\n",
       "      <td>[0, 0, 0, 0, 0, 0, 0, 0, 0, 0, 0, 0, 0, 0, 0, ...</td>\n",
       "      <td>[0.0, 0.0, 0.0, 0.0, 0.0, 0.0, 0.0, 0.0, 0.0, ...</td>\n",
       "      <td>8.424983e-08</td>\n",
       "    </tr>\n",
       "    <tr>\n",
       "      <th>221055</th>\n",
       "      <td>253178</td>\n",
       "      <td>33901490</td>\n",
       "      <td>45</td>\n",
       "      <td>def print_sums(n):\\n    for i in range(n):\\n  ...</td>\n",
       "      <td>0</td>\n",
       "      <td>-1</td>\n",
       "      <td>20000</td>\n",
       "      <td>2022-03-23 10:29:00</td>\n",
       "      <td>[0, 0, 0, 0, 0, 0, 0, 0, 0, 0, 0, 0, 0, 0, 0, ...</td>\n",
       "      <td>[0.0, 0.0, 0.0, 0.0, 0.0, 0.0, 0.0, 0.0, 0.0, ...</td>\n",
       "      <td>6.739987e-08</td>\n",
       "    </tr>\n",
       "  </tbody>\n",
       "</table>\n",
       "<p>160173 rows × 11 columns</p>\n",
       "</div>"
      ],
      "text/plain": [
       "            id      user  item  \\\n",
       "169066  199845  30065896    53   \n",
       "126789  157568  22313410    66   \n",
       "138227  169006  25070815    60   \n",
       "120357  151172  23370541    90   \n",
       "55547    86393  17126622    86   \n",
       "...        ...       ...   ...   \n",
       "221051  253174  33901490    45   \n",
       "221052  253175  33901490    45   \n",
       "221053  253176  33901490    45   \n",
       "221054  253177  33901490    45   \n",
       "221055  253178  33901490    45   \n",
       "\n",
       "                                                   answer  correct  moves  \\\n",
       "169066  def middle_number(a, b, c):\\n    if a<b and b<...        1     -1   \n",
       "126789  def decide(symbol1, symbol2):\\n    if symbol1=...        0     -1   \n",
       "138227  def big_even(a, b):\\n    return a>b and a%2==0...        1     -1   \n",
       "120357  1111111111111111111111111111111111111111111111...        0     -1   \n",
       "55547   def double(a, b):\\n  if b == a * 2:\\n    print...        1     -1   \n",
       "...                                                   ...      ...    ...   \n",
       "221051  def print_sums(n):\\n    for i in range(n):\\n  ...        0     -1   \n",
       "221052  def print_sums(n):\\n    for i in range(n):\\n  ...        0     -1   \n",
       "221053  def print_sums(n):\\n    for i in range(n):\\n  ...        0     -1   \n",
       "221054  def print_sums(n):\\n    for i in range(n):\\n  ...        0     -1   \n",
       "221055  def print_sums(n):\\n    for i in range(n):\\n  ...        0     -1   \n",
       "\n",
       "        responseTime                time  \\\n",
       "169066        697350 2021-10-22 13:11:48   \n",
       "126789        371550 2021-05-05 21:46:26   \n",
       "138227         30250 2021-06-03 19:31:29   \n",
       "120357        330750 2021-04-14 08:13:51   \n",
       "55547         155100 2020-06-16 21:19:07   \n",
       "...              ...                 ...   \n",
       "221051         19200 2022-03-23 10:28:59   \n",
       "221052         19350 2022-03-23 10:28:59   \n",
       "221053         19550 2022-03-23 10:28:59   \n",
       "221054         19750 2022-03-23 10:29:00   \n",
       "221055         20000 2022-03-23 10:29:00   \n",
       "\n",
       "                                          linter_messages  \\\n",
       "169066  [0, 0, 0, 0, 0, 0, 0, 0, 10, 0, 0, 0, 0, 0, 0,...   \n",
       "126789  [0, 0, 0, 0, 0, 0, 0, 6, 12, 0, 0, 0, 0, 0, 0,...   \n",
       "138227  [0, 0, 0, 0, 0, 0, 0, 0, 3, 2, 0, 0, 0, 0, 0, ...   \n",
       "120357  [0, 0, 0, 0, 0, 0, 0, 0, 0, 0, 0, 0, 0, 0, 0, ...   \n",
       "55547   [0, 0, 2, 0, 0, 0, 0, 0, 0, 0, 0, 0, 0, 0, 0, ...   \n",
       "...                                                   ...   \n",
       "221051  [0, 0, 0, 0, 0, 0, 0, 0, 0, 0, 0, 0, 0, 0, 0, ...   \n",
       "221052  [0, 0, 0, 0, 0, 0, 0, 0, 0, 0, 0, 0, 0, 0, 0, ...   \n",
       "221053  [0, 0, 0, 0, 0, 0, 0, 0, 0, 0, 0, 0, 0, 0, 0, ...   \n",
       "221054  [0, 0, 0, 0, 0, 0, 0, 0, 0, 0, 0, 0, 0, 0, 0, ...   \n",
       "221055  [0, 0, 0, 0, 0, 0, 0, 0, 0, 0, 0, 0, 0, 0, 0, ...   \n",
       "\n",
       "                                                  profile  \\\n",
       "169066  [0.0, 0.0, 0.0, 0.0, 0.0, 0.0, 0.0, 0.0, 0.0, ...   \n",
       "126789  [0.0, 0.0, 0.0, 0.0, 0.0, 0.0, 0.0, 0.0, 0.0, ...   \n",
       "138227  [0.0, 0.0, 0.6485032414269816, 0.6878364276643...   \n",
       "120357  [0.0, 0.0, 0.0, 0.0, 0.0, 0.0, 0.0, 0.0, 0.0, ...   \n",
       "55547   [0.0, 0.0, 0.002325648847305583, 0.00348847327...   \n",
       "...                                                   ...   \n",
       "221051  [0.0, 0.0, 0.0, 0.0, 0.0, 0.0, 0.0, 0.0, 0.0, ...   \n",
       "221052  [0.0, 0.0, 0.0, 0.0, 0.0, 0.0, 0.0, 0.0, 0.0, ...   \n",
       "221053  [0.0, 0.0, 0.0, 0.0, 0.0, 0.0, 0.0, 0.0, 0.0, ...   \n",
       "221054  [0.0, 0.0, 0.0, 0.0, 0.0, 0.0, 0.0, 0.0, 0.0, ...   \n",
       "221055  [0.0, 0.0, 0.0, 0.0, 0.0, 0.0, 0.0, 0.0, 0.0, ...   \n",
       "\n",
       "        distance_from_profile  \n",
       "169066           1.351337e+00  \n",
       "126789           1.351203e+00  \n",
       "138227           1.347694e+00  \n",
       "120357           1.347478e+00  \n",
       "55547            1.347331e+00  \n",
       "...                       ...  \n",
       "221051           1.645505e-07  \n",
       "221052           1.316404e-07  \n",
       "221053           1.053123e-07  \n",
       "221054           8.424983e-08  \n",
       "221055           6.739987e-08  \n",
       "\n",
       "[160173 rows x 11 columns]"
      ]
     },
     "execution_count": 13,
     "metadata": {},
     "output_type": "execute_result"
    }
   ],
   "source": [
    "log.sort_values(by='distance_from_profile', ascending=False)"
   ]
  },
  {
   "cell_type": "code",
   "execution_count": 15,
   "metadata": {},
   "outputs": [
    {
     "name": "stdout",
     "output_type": "stream",
     "text": [
      "def decide(symbol1, symbol2):\n",
      "    if symbol1==\"N\" and symbol2==\"P\":\n",
      "        print (symbol1)\n",
      "    elif symbol1==\"P\" and symbol2==\"K\":\n",
      "        print (symbol1)\n",
      "    elif symbol1==\"K\" and symbol2==\"N\":\n",
      "        print (symbol1)\n",
      "    elif symbol2==\"N\" and symbol1==\"P\":\n",
      "        print (symbol2)\n",
      "    elif symbol2==\"P\" and symbol1==\"K\":\n",
      "        print (symbol2)\n",
      "    elif symbol2==\"K\" and symbol1==\"N\":\n",
      "        print (symbol2)\n",
      "    print(\"Remiza\")\n"
     ]
    }
   ],
   "source": [
    "print(log.loc[126789]['answer'])"
   ]
  },
  {
   "cell_type": "code",
   "execution_count": 11,
   "metadata": {},
   "outputs": [
    {
     "ename": "ModuleNotFoundError",
     "evalue": "No module named 'linter_profile'",
     "output_type": "error",
     "traceback": [
      "\u001b[1;31m---------------------------------------------------------------------------\u001b[0m",
      "\u001b[1;31mModuleNotFoundError\u001b[0m                       Traceback (most recent call last)",
      "Cell \u001b[1;32mIn[11], line 1\u001b[0m\n\u001b[1;32m----> 1\u001b[0m \u001b[38;5;28;01mfrom\u001b[39;00m \u001b[38;5;21;01mlinter_profile\u001b[39;00m \u001b[38;5;28;01mimport\u001b[39;00m UserProfiler\n\u001b[0;32m      3\u001b[0m \u001b[38;5;28;01mfor\u001b[39;00m user, history \u001b[38;5;129;01min\u001b[39;00m log\u001b[38;5;241m.\u001b[39mgroupby(by\u001b[38;5;241m=\u001b[39m\u001b[38;5;124m'\u001b[39m\u001b[38;5;124muser\u001b[39m\u001b[38;5;124m'\u001b[39m):\n\u001b[0;32m      4\u001b[0m     UserProfiler()\u001b[38;5;241m.\u001b[39mbuild_profile()\n",
      "\u001b[1;31mModuleNotFoundError\u001b[0m: No module named 'linter_profile'"
     ]
    }
   ],
   "source": [
    "from linter_profile import UserProfiler\n",
    "\n",
    "for user, history in log.groupby(by='user'):\n",
    "    UserProfiler().build_profile()"
   ]
  }
 ],
 "metadata": {
  "kernelspec": {
   "display_name": ".venv",
   "language": "python",
   "name": "python3"
  },
  "language_info": {
   "codemirror_mode": {
    "name": "ipython",
    "version": 3
   },
   "file_extension": ".py",
   "mimetype": "text/x-python",
   "name": "python",
   "nbconvert_exporter": "python",
   "pygments_lexer": "ipython3",
   "version": "3.10.7"
  }
 },
 "nbformat": 4,
 "nbformat_minor": 2
}
